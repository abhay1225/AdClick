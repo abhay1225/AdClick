{
 "cells": [
  {
   "cell_type": "markdown",
   "metadata": {},
   "source": [
    "# Problem Statement"
   ]
  },
  {
   "cell_type": "markdown",
   "metadata": {},
   "source": [
    "The task is to predict click probability i.e. probability of user clicking the ad which is shown to them on the partner websites for the next 7 days on the basis of historical view log data, ad impression data and user data.\n",
    "\n",
    "#### Evaluation Metric\n",
    "Submissions are evaluated on area under the ROC curve between the predicted probability and the observed target.\n"
   ]
  },
  {
   "cell_type": "markdown",
   "metadata": {},
   "source": [
    "#### Key points\n",
    "\n",
    "- The E-commerce company sells multiple products on its platform\n",
    "- User behavior is recorded in the logs\n",
    "- View log of users is for around 22 days (15th Oct 2018 - 5th Nov 2018)\n",
    "- Train data has the impression logs for 29 days (15th Nov 2018 – 13th Dec 2018) along with the label which specifies whether the ad is clicked or not\n",
    "- Test data have impression logs for 7 days (12th Dec 2018 – 18th Dec 2018) without the labels\n",
    "- 12th and 13th Dec are overlap between train and test dataset. We can put a lookup to see if the user_id matches then, for those we can input the values\n",
    "- The product description is collected from the Zbay website"
   ]
  },
  {
   "cell_type": "markdown",
   "metadata": {},
   "source": [
    "# Good reference links\n",
    "\n",
    "- Sample solution of similar problem\n",
    "https://towardsdatascience.com/mobile-ads-click-through-rate-ctr-prediction-44fdac40c6ff"
   ]
  },
  {
   "cell_type": "markdown",
   "metadata": {},
   "source": [
    "# 1. Load Libraries"
   ]
  },
  {
   "cell_type": "code",
   "execution_count": 13,
   "metadata": {},
   "outputs": [],
   "source": [
    "import numpy as np\n",
    "import pandas as pd\n",
    "import matplotlib.pyplot as plt\n",
    "import seaborn as sns"
   ]
  },
  {
   "cell_type": "markdown",
   "metadata": {},
   "source": [
    "# 2. Load Dataset"
   ]
  },
  {
   "cell_type": "code",
   "execution_count": 2,
   "metadata": {},
   "outputs": [],
   "source": [
    "train=pd.read_csv(\"train.csv\")\n",
    "view_log=pd.read_csv(\"view_log.csv\")\n",
    "item_data=pd.read_csv(\"item_data.csv\")\n",
    "test=pd.read_csv(\"test.csv\")"
   ]
  },
  {
   "cell_type": "markdown",
   "metadata": {},
   "source": [
    "- view_log contains data on user behaviour"
   ]
  },
  {
   "cell_type": "markdown",
   "metadata": {},
   "source": [
    "# 3. Data Exploration"
   ]
  },
  {
   "cell_type": "code",
   "execution_count": 3,
   "metadata": {},
   "outputs": [
    {
     "data": {
      "text/html": [
       "<div>\n",
       "<style scoped>\n",
       "    .dataframe tbody tr th:only-of-type {\n",
       "        vertical-align: middle;\n",
       "    }\n",
       "\n",
       "    .dataframe tbody tr th {\n",
       "        vertical-align: top;\n",
       "    }\n",
       "\n",
       "    .dataframe thead th {\n",
       "        text-align: right;\n",
       "    }\n",
       "</style>\n",
       "<table border=\"1\" class=\"dataframe\">\n",
       "  <thead>\n",
       "    <tr style=\"text-align: right;\">\n",
       "      <th></th>\n",
       "      <th>impression_id</th>\n",
       "      <th>impression_time</th>\n",
       "      <th>user_id</th>\n",
       "      <th>app_code</th>\n",
       "      <th>os_version</th>\n",
       "      <th>is_4G</th>\n",
       "      <th>is_click</th>\n",
       "    </tr>\n",
       "  </thead>\n",
       "  <tbody>\n",
       "    <tr>\n",
       "      <th>0</th>\n",
       "      <td>c4ca4238a0b923820dcc509a6f75849b</td>\n",
       "      <td>2018-11-15 00:00:00</td>\n",
       "      <td>87862</td>\n",
       "      <td>422</td>\n",
       "      <td>old</td>\n",
       "      <td>0</td>\n",
       "      <td>0</td>\n",
       "    </tr>\n",
       "    <tr>\n",
       "      <th>1</th>\n",
       "      <td>45c48cce2e2d7fbdea1afc51c7c6ad26</td>\n",
       "      <td>2018-11-15 00:01:00</td>\n",
       "      <td>63410</td>\n",
       "      <td>467</td>\n",
       "      <td>latest</td>\n",
       "      <td>1</td>\n",
       "      <td>1</td>\n",
       "    </tr>\n",
       "    <tr>\n",
       "      <th>2</th>\n",
       "      <td>70efdf2ec9b086079795c442636b55fb</td>\n",
       "      <td>2018-11-15 00:02:00</td>\n",
       "      <td>71748</td>\n",
       "      <td>259</td>\n",
       "      <td>intermediate</td>\n",
       "      <td>1</td>\n",
       "      <td>0</td>\n",
       "    </tr>\n",
       "    <tr>\n",
       "      <th>3</th>\n",
       "      <td>8e296a067a37563370ded05f5a3bf3ec</td>\n",
       "      <td>2018-11-15 00:02:00</td>\n",
       "      <td>69209</td>\n",
       "      <td>244</td>\n",
       "      <td>latest</td>\n",
       "      <td>1</td>\n",
       "      <td>0</td>\n",
       "    </tr>\n",
       "    <tr>\n",
       "      <th>4</th>\n",
       "      <td>182be0c5cdcd5072bb1864cdee4d3d6e</td>\n",
       "      <td>2018-11-15 00:02:00</td>\n",
       "      <td>62873</td>\n",
       "      <td>473</td>\n",
       "      <td>latest</td>\n",
       "      <td>0</td>\n",
       "      <td>0</td>\n",
       "    </tr>\n",
       "  </tbody>\n",
       "</table>\n",
       "</div>"
      ],
      "text/plain": [
       "                      impression_id      impression_time  user_id  app_code  \\\n",
       "0  c4ca4238a0b923820dcc509a6f75849b  2018-11-15 00:00:00    87862       422   \n",
       "1  45c48cce2e2d7fbdea1afc51c7c6ad26  2018-11-15 00:01:00    63410       467   \n",
       "2  70efdf2ec9b086079795c442636b55fb  2018-11-15 00:02:00    71748       259   \n",
       "3  8e296a067a37563370ded05f5a3bf3ec  2018-11-15 00:02:00    69209       244   \n",
       "4  182be0c5cdcd5072bb1864cdee4d3d6e  2018-11-15 00:02:00    62873       473   \n",
       "\n",
       "     os_version  is_4G  is_click  \n",
       "0           old      0         0  \n",
       "1        latest      1         1  \n",
       "2  intermediate      1         0  \n",
       "3        latest      1         0  \n",
       "4        latest      0         0  "
      ]
     },
     "execution_count": 3,
     "metadata": {},
     "output_type": "execute_result"
    }
   ],
   "source": [
    "train.head()"
   ]
  },
  {
   "cell_type": "markdown",
   "metadata": {},
   "source": [
    "- app_code is the publisher id"
   ]
  },
  {
   "cell_type": "code",
   "execution_count": 20,
   "metadata": {},
   "outputs": [
    {
     "data": {
      "text/html": [
       "<div>\n",
       "<style scoped>\n",
       "    .dataframe tbody tr th:only-of-type {\n",
       "        vertical-align: middle;\n",
       "    }\n",
       "\n",
       "    .dataframe tbody tr th {\n",
       "        vertical-align: top;\n",
       "    }\n",
       "\n",
       "    .dataframe thead th {\n",
       "        text-align: right;\n",
       "    }\n",
       "</style>\n",
       "<table border=\"1\" class=\"dataframe\">\n",
       "  <thead>\n",
       "    <tr style=\"text-align: right;\">\n",
       "      <th></th>\n",
       "      <th>server_time</th>\n",
       "      <th>device_type</th>\n",
       "      <th>session_id</th>\n",
       "      <th>user_id</th>\n",
       "      <th>item_id</th>\n",
       "    </tr>\n",
       "  </thead>\n",
       "  <tbody>\n",
       "    <tr>\n",
       "      <th>0</th>\n",
       "      <td>2018-10-15 08:58:00</td>\n",
       "      <td>android</td>\n",
       "      <td>112333</td>\n",
       "      <td>4557</td>\n",
       "      <td>32970</td>\n",
       "    </tr>\n",
       "    <tr>\n",
       "      <th>1</th>\n",
       "      <td>2018-10-15 08:58:00</td>\n",
       "      <td>android</td>\n",
       "      <td>503590</td>\n",
       "      <td>74788</td>\n",
       "      <td>7640</td>\n",
       "    </tr>\n",
       "    <tr>\n",
       "      <th>2</th>\n",
       "      <td>2018-10-15 08:58:00</td>\n",
       "      <td>android</td>\n",
       "      <td>573960</td>\n",
       "      <td>23628</td>\n",
       "      <td>128855</td>\n",
       "    </tr>\n",
       "    <tr>\n",
       "      <th>3</th>\n",
       "      <td>2018-10-15 08:58:00</td>\n",
       "      <td>android</td>\n",
       "      <td>121691</td>\n",
       "      <td>2430</td>\n",
       "      <td>12774</td>\n",
       "    </tr>\n",
       "    <tr>\n",
       "      <th>4</th>\n",
       "      <td>2018-10-15 08:58:00</td>\n",
       "      <td>android</td>\n",
       "      <td>218564</td>\n",
       "      <td>19227</td>\n",
       "      <td>28296</td>\n",
       "    </tr>\n",
       "  </tbody>\n",
       "</table>\n",
       "</div>"
      ],
      "text/plain": [
       "           server_time device_type  session_id  user_id  item_id\n",
       "0  2018-10-15 08:58:00     android      112333     4557    32970\n",
       "1  2018-10-15 08:58:00     android      503590    74788     7640\n",
       "2  2018-10-15 08:58:00     android      573960    23628   128855\n",
       "3  2018-10-15 08:58:00     android      121691     2430    12774\n",
       "4  2018-10-15 08:58:00     android      218564    19227    28296"
      ]
     },
     "execution_count": 20,
     "metadata": {},
     "output_type": "execute_result"
    }
   ],
   "source": [
    "view_log.head()"
   ]
  },
  {
   "cell_type": "code",
   "execution_count": 22,
   "metadata": {},
   "outputs": [
    {
     "data": {
      "text/html": [
       "<div>\n",
       "<style scoped>\n",
       "    .dataframe tbody tr th:only-of-type {\n",
       "        vertical-align: middle;\n",
       "    }\n",
       "\n",
       "    .dataframe tbody tr th {\n",
       "        vertical-align: top;\n",
       "    }\n",
       "\n",
       "    .dataframe thead th {\n",
       "        text-align: right;\n",
       "    }\n",
       "</style>\n",
       "<table border=\"1\" class=\"dataframe\">\n",
       "  <thead>\n",
       "    <tr style=\"text-align: right;\">\n",
       "      <th></th>\n",
       "      <th>item_id</th>\n",
       "      <th>item_price</th>\n",
       "      <th>category_1</th>\n",
       "      <th>category_2</th>\n",
       "      <th>category_3</th>\n",
       "      <th>product_type</th>\n",
       "    </tr>\n",
       "  </thead>\n",
       "  <tbody>\n",
       "    <tr>\n",
       "      <th>0</th>\n",
       "      <td>26880</td>\n",
       "      <td>4602</td>\n",
       "      <td>11</td>\n",
       "      <td>35</td>\n",
       "      <td>20</td>\n",
       "      <td>3040</td>\n",
       "    </tr>\n",
       "    <tr>\n",
       "      <th>1</th>\n",
       "      <td>54939</td>\n",
       "      <td>3513</td>\n",
       "      <td>12</td>\n",
       "      <td>57</td>\n",
       "      <td>85</td>\n",
       "      <td>6822</td>\n",
       "    </tr>\n",
       "    <tr>\n",
       "      <th>2</th>\n",
       "      <td>40383</td>\n",
       "      <td>825</td>\n",
       "      <td>17</td>\n",
       "      <td>8</td>\n",
       "      <td>279</td>\n",
       "      <td>1619</td>\n",
       "    </tr>\n",
       "    <tr>\n",
       "      <th>3</th>\n",
       "      <td>8777</td>\n",
       "      <td>2355</td>\n",
       "      <td>13</td>\n",
       "      <td>58</td>\n",
       "      <td>189</td>\n",
       "      <td>5264</td>\n",
       "    </tr>\n",
       "    <tr>\n",
       "      <th>4</th>\n",
       "      <td>113705</td>\n",
       "      <td>1267</td>\n",
       "      <td>17</td>\n",
       "      <td>39</td>\n",
       "      <td>151</td>\n",
       "      <td>10239</td>\n",
       "    </tr>\n",
       "  </tbody>\n",
       "</table>\n",
       "</div>"
      ],
      "text/plain": [
       "   item_id  item_price  category_1  category_2  category_3  product_type\n",
       "0    26880        4602          11          35          20          3040\n",
       "1    54939        3513          12          57          85          6822\n",
       "2    40383         825          17           8         279          1619\n",
       "3     8777        2355          13          58         189          5264\n",
       "4   113705        1267          17          39         151         10239"
      ]
     },
     "execution_count": 22,
     "metadata": {},
     "output_type": "execute_result"
    }
   ],
   "source": [
    "item_data.head()"
   ]
  },
  {
   "cell_type": "markdown",
   "metadata": {},
   "source": [
    "- category_1\tCategory depth 1\n",
    "- category_2\tCategory depth 2\n",
    "- category_3\tCategory depth 3\n",
    "- product_type\tanonymized item type\n",
    "- -->> What is the difference between item type and category"
   ]
  },
  {
   "cell_type": "code",
   "execution_count": 19,
   "metadata": {},
   "outputs": [
    {
     "name": "stdout",
     "output_type": "stream",
     "text": [
      "shape of train data (237609, 7)\n",
      "===============================\n",
      "shape of log data (3118622, 5)\n",
      "===============================\n",
      "shape of item data (132761, 6)\n",
      "===============================\n",
      "shape of train data (90675, 6)\n"
     ]
    }
   ],
   "source": [
    "print(\"shape of train data\",train.shape)\n",
    "print(\"===============================\")\n",
    "print(\"shape of log data\",view_log.shape)\n",
    "print(\"===============================\")\n",
    "print(\"shape of item data\",item_data.shape)\n",
    "print(\"===============================\")\n",
    "print(\"shape of train data\",test.shape)"
   ]
  },
  {
   "cell_type": "markdown",
   "metadata": {},
   "source": [
    "# Variable Types"
   ]
  },
  {
   "cell_type": "markdown",
   "metadata": {},
   "source": [
    "- impression_id : Id can be ignored (which ad is driving more clicks) -237609 unique ads\n",
    "- user_id : Id can be ignored (Is a repetitive users who isn't clicking for a particular item? or, is there any user who is always clicking but not buying an item?) - 74723 unique users\n",
    "- session_id : Id can be ignored\n",
    "- item_id : Id can be ignored (which item is getting more clicks?) - 126708 unique products\n",
    "- app_code : Categorical (490 categories) - publisher id (which publisher is driving more traffic?)\n",
    "******************************************************************************************************************\n",
    "- impression_time : DateTime - Can be used for Day of week, Time of day analysis\n",
    "- os_version : Categorical (3 categories)\n",
    "- is_4G : Categorical (2 categories)\n",
    "- server_time : Timestamp of the log\n",
    "- device_type : Categorical (3 categories)\n",
    "- item_price : Continuous (Numerical)\n",
    "- category_1 : Categorical (17 categories)\n",
    "- category_2 : Categorical (79 categories)\n",
    "- category_3 : Categorical (335 categories)\n",
    "- product_type : Categorical (7959 categories)\n",
    "- is_click : Categorical (Target Variable)"
   ]
  },
  {
   "cell_type": "markdown",
   "metadata": {},
   "source": [
    "##### Can be ignored\n",
    "- impression_id : Id can be ignored \n",
    "- user_id : Id can be ignored\n",
    "- session_id : Id can be ignored\n",
    "- item_id : Id can be ignored\n",
    "- app_code : Categorical (490 categories) - publisher id - It would have be better if publisher category was given rather than publisher id"
   ]
  },
  {
   "cell_type": "code",
   "execution_count": 28,
   "metadata": {
    "scrolled": true
   },
   "outputs": [
    {
     "name": "stdout",
     "output_type": "stream",
     "text": [
      "Number of categories in app_code\n",
      "490\n",
      "==================================================================\n",
      "Number of categories in os_version\n",
      "3\n",
      "==================================================================\n",
      "Number of categories in is_4G\n",
      "2\n",
      "==================================================================\n",
      "Number of categories in device_type\n",
      "3\n",
      "==================================================================\n",
      "Number of categories in category_1\n",
      "17\n",
      "==================================================================\n",
      "Number of categories in category_2\n",
      "79\n",
      "==================================================================\n",
      "Number of categories in category_3\n",
      "335\n",
      "==================================================================\n",
      "Number of categories in product_type\n",
      "7959\n",
      "==================================================================\n",
      "Number of categories in impression_id\n",
      "237609\n",
      "==================================================================\n",
      "Number of categories in user_id\n",
      "74723\n",
      "==================================================================\n",
      "Number of categories in item_id\n",
      "126708\n"
     ]
    }
   ],
   "source": [
    "print(\"Number of categories in app_code\")\n",
    "print(train[\"app_code\"].nunique())\n",
    "print(\"==================================================================\")\n",
    "print(\"Number of categories in os_version\")\n",
    "print(train[\"os_version\"].nunique())\n",
    "print(\"==================================================================\")\n",
    "print(\"Number of categories in is_4G\")\n",
    "print(train[\"is_4G\"].nunique())\n",
    "print(\"==================================================================\")\n",
    "print(\"Number of categories in device_type\")\n",
    "print(view_log[\"device_type\"].nunique())\n",
    "print(\"==================================================================\")\n",
    "print(\"Number of categories in category_1\")\n",
    "print(item_data[\"category_1\"].nunique())\n",
    "print(\"==================================================================\")\n",
    "print(\"Number of categories in category_2\")\n",
    "print(item_data[\"category_2\"].nunique())\n",
    "print(\"==================================================================\")\n",
    "print(\"Number of categories in category_3\")\n",
    "print(item_data[\"category_3\"].nunique())\n",
    "print(\"==================================================================\")\n",
    "print(\"Number of categories in product_type\")\n",
    "print(item_data[\"product_type\"].nunique())\n",
    "print(\"==================================================================\")\n",
    "print(\"Number of categories in impression_id\")\n",
    "print(train[\"impression_id\"].nunique())\n",
    "print(\"==================================================================\")\n",
    "print(\"Number of categories in user_id\")\n",
    "print(train[\"user_id\"].nunique())\n",
    "print(\"==================================================================\")\n",
    "print(\"Number of categories in item_id\")\n",
    "print(view_log[\"item_id\"].nunique())"
   ]
  },
  {
   "cell_type": "code",
   "execution_count": 29,
   "metadata": {},
   "outputs": [
    {
     "name": "stdout",
     "output_type": "stream",
     "text": [
      "Categories in os_version\n",
      "['old' 'latest' 'intermediate']\n",
      "==================================================================\n",
      "Categories in is_4G\n",
      "[0 1]\n",
      "==================================================================\n",
      "Categories in device_type\n",
      "['android' 'iphone' 'web']\n"
     ]
    }
   ],
   "source": [
    "print(\"Categories in os_version\")\n",
    "print(train[\"os_version\"].unique())\n",
    "print(\"==================================================================\")\n",
    "print(\"Categories in is_4G\")\n",
    "print(train[\"is_4G\"].unique())\n",
    "print(\"==================================================================\")\n",
    "print(\"Categories in device_type\")\n",
    "print(view_log[\"device_type\"].unique())"
   ]
  },
  {
   "cell_type": "markdown",
   "metadata": {},
   "source": [
    "# Questions to be explored"
   ]
  },
  {
   "cell_type": "markdown",
   "metadata": {},
   "source": [
    "#### 1. Related to Data's timeframe given\n",
    "- Can we merge Train and View_logs given the time frame for both is different?\n",
    "\n",
    "      - Yes, item data can be merged as it is time independent.\n",
    "      - Assuming the user doesn't change the device, we can add view_logs. Anyways from view_logs - apart from device time rest all seems not useful\n",
    "\n",
    "#### 2. Related to variables\n",
    "- How is os_version impacting the propensity to click? #imp\n",
    "- How is having a 4G connection driving the clicks? #imp\n",
    "- Which device type is leading to more clicks? #imp\n",
    "- How is item price related to clicks? # not a realistic question\n",
    "- How are the categories_1,2,3 are playing a role in clicks? Which of them is driving more?\n",
    "- Which product_type is driving more clicks?\n",
    "- Which time of day or day of week drives more number of clicks?\n",
    "- What to do with server time?\n",
    "**************************************************************************************************************************\n",
    "- Do outlier analysis on Price #imp\n",
    "- Do propensity to click analysis - check titanic\n",
    "- Univariate, Bivariate\n",
    "\n",
    "#### 3. Feature Engineering\n",
    "- Can a variable be created based on praticle knowledge? - CTR,CPC,CPA etc. or any other adnetwork metric  \n",
    "\n",
    "    - https://instapage.com/blog/key-advertising-metrics\n",
    "    - http://blog.chapagain.com.np/google-adsense-describing-ctr-cpc-cpm-rpm-page-views-impression/\n",
    "    - https://pubhelp.rakutenmarketing.com/hc/en-us/articles/200822986-What-are-CPM-CTR-CPA-and-CPC-\n",
    "\n",
    "- Combine os_version and device_type ->>> is this a good variable, think??\n",
    "- Combine is_4G and device_type ->>> is this a good variable, think??\n",
    "- Combine Category_1,2,3 ->>> is this a good variable, think??\n",
    "- Can we do anything from app_code - Which ad is shown where is important to increase the propensity to click (underlying belief)\n",
    "#### 4. Feature Selection\n",
    "- Do hypothesis testing\n",
    "\n",
    "#### 5. Make a better model\n",
    "- Stratified Cross-validation\n",
    "- SMOTE #imp\n",
    "- One hot Encoding\n",
    "#### 6. Models to apply\n",
    "- Logistic Regression\n",
    "- Decision Tree\n",
    "- KNN\n",
    "- SVM\n",
    "- Random forest\n",
    "- GBM\n",
    "- XGBM\n",
    "- LGBM\n",
    "- Catboost"
   ]
  },
  {
   "cell_type": "markdown",
   "metadata": {},
   "source": [
    "## 3.1 Finding Missing Values"
   ]
  },
  {
   "cell_type": "code",
   "execution_count": 8,
   "metadata": {},
   "outputs": [
    {
     "name": "stdout",
     "output_type": "stream",
     "text": [
      "Missing Values in Train Dataset\n",
      "impression_id      0\n",
      "impression_time    0\n",
      "user_id            0\n",
      "app_code           0\n",
      "os_version         0\n",
      "is_4G              0\n",
      "is_click           0\n",
      "dtype: int64\n",
      "==================================================================\n",
      "Missing Values in Log Dataset\n",
      "server_time    0\n",
      "device_type    0\n",
      "session_id     0\n",
      "user_id        0\n",
      "item_id        0\n",
      "dtype: int64\n",
      "==================================================================\n",
      "Missing Values in Item Dataset\n",
      "item_id         0\n",
      "item_price      0\n",
      "category_1      0\n",
      "category_2      0\n",
      "category_3      0\n",
      "product_type    0\n",
      "dtype: int64\n",
      "==================================================================\n",
      "Missing Values in Test Dataset\n",
      "impression_id      0\n",
      "impression_time    0\n",
      "user_id            0\n",
      "app_code           0\n",
      "os_version         0\n",
      "is_4G              0\n",
      "dtype: int64\n"
     ]
    }
   ],
   "source": [
    "print(\"Missing Values in Train Dataset\")\n",
    "print(train.isna().sum())\n",
    "print(\"==================================================================\")\n",
    "print(\"Missing Values in Log Dataset\")\n",
    "print(view_log.isna().sum())\n",
    "print(\"==================================================================\")\n",
    "print(\"Missing Values in Item Dataset\")\n",
    "print(item_data.isna().sum())\n",
    "print(\"==================================================================\")\n",
    "print(\"Missing Values in Test Dataset\")\n",
    "print(test.isna().sum())"
   ]
  },
  {
   "cell_type": "markdown",
   "metadata": {},
   "source": [
    "- No missing values in the entire dataset"
   ]
  },
  {
   "cell_type": "markdown",
   "metadata": {},
   "source": [
    "## 3.2 Explore Target Variable"
   ]
  },
  {
   "cell_type": "code",
   "execution_count": 9,
   "metadata": {},
   "outputs": [],
   "source": [
    "# Extract target variable from train set\n",
    "label = train['is_click']"
   ]
  },
  {
   "cell_type": "code",
   "execution_count": 10,
   "metadata": {},
   "outputs": [
    {
     "data": {
      "text/plain": [
       "array([0, 1], dtype=int64)"
      ]
     },
     "execution_count": 10,
     "metadata": {},
     "output_type": "execute_result"
    }
   ],
   "source": [
    "# Check for unique values\n",
    "label.unique()"
   ]
  },
  {
   "cell_type": "code",
   "execution_count": 14,
   "metadata": {},
   "outputs": [
    {
     "data": {
      "image/png": "[encoded data removed]",
      "text/plain": [
       "<Figure size 432x288 with 1 Axes>"
      ]
     },
     "metadata": {},
     "output_type": "display_data"
    }
   ],
   "source": [
    "# Pie Plot to Visualise the Target Variable\n",
    "label.value_counts().plot.pie(autopct='%1.2f%%')\n",
    "plt.axis('equal')\n",
    "plt.show()"
   ]
  },
  {
   "cell_type": "markdown",
   "metadata": {},
   "source": [
    "- In the train dataset only 4.57% of the impressions were clicked"
   ]
  },
  {
   "cell_type": "code",
   "execution_count": null,
   "metadata": {},
   "outputs": [],
   "source": []
  }
 ],
 "metadata": {
  "kernelspec": {
   "display_name": "Python 3",
   "language": "python",
   "name": "python3"
  },
  "language_info": {
   "codemirror_mode": {
    "name": "ipython",
    "version": 3
   },
   "file_extension": ".py",
   "mimetype": "text/x-python",
   "name": "python",
   "nbconvert_exporter": "python",
   "pygments_lexer": "ipython3",
   "version": "3.7.3"
  }
 },
 "nbformat": 4,
 "nbformat_minor": 2
}
